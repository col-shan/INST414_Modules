{
 "cells": [
  {
   "cell_type": "code",
   "execution_count": 1,
   "metadata": {},
   "outputs": [],
   "source": [
    "import pandas as pd"
   ]
  },
  {
   "cell_type": "code",
   "execution_count": null,
   "metadata": {},
   "outputs": [
    {
     "name": "stdout",
     "output_type": "stream",
     "text": [
      "   season  round  pick team gsis_id pfr_player_id    cfb_player_id  \\\n",
      "0    1990      1     1  IND     NaN      GeorJe00    jeff-george-1   \n",
      "1    1990      1     2  NYJ     NaN      ThomBl00   blair-thomas-1   \n",
      "2    1990      1     3  SEA     NaN      KennCo00              NaN   \n",
      "3    1990      1     4  TAM     NaN      McCaKe21  keith-mccants-1   \n",
      "4    1990      1     5  SDG     NaN      SeauJu00    junior-seau-1   \n",
      "\n",
      "  pfr_player_name    hof position  ... pass_ints rush_atts rush_yards  \\\n",
      "0     Jeff George  False       QB  ...     113.0     168.0      307.0   \n",
      "1    Blair Thomas  False       RB  ...       0.0     533.0     2236.0   \n",
      "2  Cortez Kennedy   True       DT  ...       0.0       0.0        0.0   \n",
      "3   Keith McCants  False       DE  ...       0.0       0.0        0.0   \n",
      "4     Junior Seau   True       LB  ...       0.0       0.0        0.0   \n",
      "\n",
      "   rush_tds  receptions  rec_yards  rec_tds  def_solo_tackles  def_ints  \\\n",
      "0       2.0         0.0        0.0      0.0               NaN       NaN   \n",
      "1       7.0        71.0      513.0      2.0               NaN       NaN   \n",
      "2       0.0         0.0        0.0      0.0               NaN       3.0   \n",
      "3       0.0         0.0        0.0      0.0               NaN       1.0   \n",
      "4       0.0         2.0        8.0      0.0               NaN      18.0   \n",
      "\n",
      "   def_sacks  \n",
      "0        NaN  \n",
      "1        NaN  \n",
      "2       58.0  \n",
      "3       13.5  \n",
      "4       56.5  \n",
      "\n",
      "[5 rows x 36 columns]\n"
     ]
    }
   ],
   "source": [
    "# Read in the CSV file and display the first few rows\n",
    "df = pd.read_csv('NFLDraftHistory.csv')\n",
    "print(df.head())"
   ]
  },
  {
   "cell_type": "code",
   "execution_count": 9,
   "metadata": {},
   "outputs": [
    {
     "name": "stdout",
     "output_type": "stream",
     "text": [
      "['season', 'round', 'pick', 'team', 'gsis_id', 'pfr_player_id', 'cfb_player_id', 'pfr_player_name', 'hof', 'position', 'category', 'side', 'college', 'age', 'to', 'allpro', 'probowls', 'seasons_started', 'w_av', 'car_av', 'dr_av', 'games', 'pass_completions', 'pass_attempts', 'pass_yards', 'pass_tds', 'pass_ints', 'rush_atts', 'rush_yards', 'rush_tds', 'receptions', 'rec_yards', 'rec_tds', 'def_solo_tackles', 'def_ints', 'def_sacks']\n"
     ]
    },
    {
     "data": {
      "text/plain": [
       "(8555, 36)"
      ]
     },
     "execution_count": 9,
     "metadata": {},
     "output_type": "execute_result"
    }
   ],
   "source": [
    "# Check column names and shape\n",
    "print(df.columns.tolist())\n",
    "df.shape"
   ]
  }
 ],
 "metadata": {
  "kernelspec": {
   "display_name": "base",
   "language": "python",
   "name": "python3"
  },
  "language_info": {
   "codemirror_mode": {
    "name": "ipython",
    "version": 3
   },
   "file_extension": ".py",
   "mimetype": "text/x-python",
   "name": "python",
   "nbconvert_exporter": "python",
   "pygments_lexer": "ipython3",
   "version": "3.11.8"
  }
 },
 "nbformat": 4,
 "nbformat_minor": 2
}
