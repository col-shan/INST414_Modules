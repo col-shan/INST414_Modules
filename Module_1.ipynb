{
 "cells": [
  {
   "cell_type": "code",
   "execution_count": 29,
   "metadata": {},
   "outputs": [],
   "source": [
    "import pandas as pd\n",
    "import matplotlib.pyplot as plt\n",
    "import seaborn as sns"
   ]
  },
  {
   "cell_type": "code",
   "execution_count": null,
   "metadata": {},
   "outputs": [
    {
     "name": "stdout",
     "output_type": "stream",
     "text": [
      "   season  round  pick team gsis_id pfr_player_id    cfb_player_id  \\\n",
      "0    1990      1     1  IND     NaN      GeorJe00    jeff-george-1   \n",
      "1    1990      1     2  NYJ     NaN      ThomBl00   blair-thomas-1   \n",
      "2    1990      1     3  SEA     NaN      KennCo00              NaN   \n",
      "3    1990      1     4  TAM     NaN      McCaKe21  keith-mccants-1   \n",
      "4    1990      1     5  SDG     NaN      SeauJu00    junior-seau-1   \n",
      "\n",
      "  pfr_player_name    hof position  ... pass_ints rush_atts rush_yards  \\\n",
      "0     Jeff George  False       QB  ...     113.0     168.0      307.0   \n",
      "1    Blair Thomas  False       RB  ...       0.0     533.0     2236.0   \n",
      "2  Cortez Kennedy   True       DT  ...       0.0       0.0        0.0   \n",
      "3   Keith McCants  False       DE  ...       0.0       0.0        0.0   \n",
      "4     Junior Seau   True       LB  ...       0.0       0.0        0.0   \n",
      "\n",
      "   rush_tds  receptions  rec_yards  rec_tds  def_solo_tackles  def_ints  \\\n",
      "0       2.0         0.0        0.0      0.0               NaN       NaN   \n",
      "1       7.0        71.0      513.0      2.0               NaN       NaN   \n",
      "2       0.0         0.0        0.0      0.0               NaN       3.0   \n",
      "3       0.0         0.0        0.0      0.0               NaN       1.0   \n",
      "4       0.0         2.0        8.0      0.0               NaN      18.0   \n",
      "\n",
      "   def_sacks  \n",
      "0        NaN  \n",
      "1        NaN  \n",
      "2       58.0  \n",
      "3       13.5  \n",
      "4       56.5  \n",
      "\n",
      "[5 rows x 36 columns]\n"
     ]
    }
   ],
   "source": [
    "# Read in the CSV file and display the first few rows\n",
    "df = pd.read_csv('NFLDraftHistory.csv')\n",
    "print(df.head())"
   ]
  },
  {
   "cell_type": "code",
   "execution_count": 9,
   "metadata": {},
   "outputs": [
    {
     "name": "stdout",
     "output_type": "stream",
     "text": [
      "['season', 'round', 'pick', 'team', 'gsis_id', 'pfr_player_id', 'cfb_player_id', 'pfr_player_name', 'hof', 'position', 'category', 'side', 'college', 'age', 'to', 'allpro', 'probowls', 'seasons_started', 'w_av', 'car_av', 'dr_av', 'games', 'pass_completions', 'pass_attempts', 'pass_yards', 'pass_tds', 'pass_ints', 'rush_atts', 'rush_yards', 'rush_tds', 'receptions', 'rec_yards', 'rec_tds', 'def_solo_tackles', 'def_ints', 'def_sacks']\n"
     ]
    },
    {
     "data": {
      "text/plain": [
       "(8555, 36)"
      ]
     },
     "execution_count": 9,
     "metadata": {},
     "output_type": "execute_result"
    }
   ],
   "source": [
    "# Check column names and shape\n",
    "print(df.columns.tolist())\n",
    "df.shape"
   ]
  },
  {
   "cell_type": "code",
   "execution_count": 14,
   "metadata": {},
   "outputs": [
    {
     "name": "stdout",
     "output_type": "stream",
     "text": [
      "           college         w_av     probowls        games\n",
      "count         3937  3937.000000  3937.000000  3937.000000\n",
      "unique         295          NaN          NaN          NaN\n",
      "top     Miami (FL)          NaN          NaN          NaN\n",
      "freq           100          NaN          NaN          NaN\n",
      "mean           NaN    21.037084     0.420879    72.218186\n",
      "std            NaN    25.388909     1.425808    57.186152\n",
      "min            NaN    -4.000000     0.000000     0.000000\n",
      "25%            NaN     2.000000     0.000000    22.000000\n",
      "50%            NaN    11.000000     0.000000    61.000000\n",
      "75%            NaN    33.000000     0.000000   113.000000\n",
      "max            NaN   184.000000    15.000000   335.000000\n",
      "Cleaned shape: (3937, 36)\n"
     ]
    }
   ],
   "source": [
    "# Drop rows missing the key columns I will be using\n",
    "df_clean = df.dropna(subset=['college', 'w_av', 'probowls', 'games'])\n",
    "\n",
    "# Filter to only positions that are relevant for my analysis (so no kickers, punters, etc.)\n",
    "valid_positions = ['QB', 'RB', 'WR', 'TE', 'C', 'G', 'T', 'DE', 'DT', 'LB', 'CB', 'S']\n",
    "df_clean = df_clean[df_clean['position'].isin(valid_positions)]\n",
    "\n",
    "# Focus only on drafts from 2012 and earlier\n",
    "df_clean = df_clean[df_clean['season'] <= 2012]\n",
    "\n",
    "# Reset index\n",
    "df_clean = df_clean.reset_index(drop=True)\n",
    "\n",
    "# Quick summary\n",
    "print(df_clean[['college', 'w_av', 'probowls', 'games']].describe(include='all'))\n",
    "print(f\"Cleaned shape: {df_clean.shape}\")"
   ]
  },
  {
   "cell_type": "code",
   "execution_count": 39,
   "metadata": {},
   "outputs": [],
   "source": [
    "# Count how many players were drafted from each college\n",
    "college_counts = df_clean['college'].value_counts()\n",
    "# Filter to only include colleges with at least 10 players drafted\n",
    "valid_colleges = college_counts[college_counts >= 10].index\n",
    "# Create a new DataFrame with only the valid colleges\n",
    "df_filtered = df_clean[df_clean['college'].isin(valid_colleges)]"
   ]
  },
  {
   "cell_type": "code",
   "execution_count": 40,
   "metadata": {},
   "outputs": [
    {
     "name": "stdout",
     "output_type": "stream",
     "text": [
      "                   w_av  probowls      games\n",
      "college                                     \n",
      "Boston Col.   35.162162  0.918919  94.648649\n",
      "Georgia       30.380282  0.704225  85.098592\n",
      "Marshall      29.785714  0.500000  94.571429\n",
      "Purdue        29.487179  0.769231  92.589744\n",
      "Memphis       29.461538  0.615385  93.230769\n",
      "California    29.423729  0.932203  86.254237\n",
      "Mississippi   29.055556  0.583333  95.250000\n",
      "Oklahoma St.  28.157895  0.789474  92.315789\n",
      "Auburn        27.981818  0.454545  89.854545\n",
      "Miami (FL)    27.980000  0.950000  80.660000\n"
     ]
    }
   ],
   "source": [
    "# Group by college and calculate average career stats\n",
    "college_avg = df_filtered.groupby('college')[['w_av', 'probowls', 'games']].mean().sort_values('w_av', ascending=False)\n",
    "print(college_avg.head(10))"
   ]
  },
  {
   "cell_type": "code",
   "execution_count": 41,
   "metadata": {},
   "outputs": [
    {
     "name": "stdout",
     "output_type": "stream",
     "text": [
      "               w_av  probowls   games\n",
      "college                              \n",
      "Miami (FL)   2798.0        95  8066.0\n",
      "USC          2236.0        63  7074.0\n",
      "Georgia      2157.0        50  6042.0\n",
      "Florida St.  2109.0        48  6658.0\n",
      "Tennessee    2081.0        48  6812.0\n",
      "Michigan     2014.0        37  6401.0\n",
      "Florida      1990.0        30  6358.0\n",
      "Ohio St.     1846.0        33  6131.0\n",
      "California   1736.0        55  5089.0\n",
      "Notre Dame   1673.0        23  6322.0\n"
     ]
    }
   ],
   "source": [
    "# Group by college and calculate total career stats\n",
    "college_total = df_filtered.groupby('college')[['w_av', 'probowls', 'games']].sum().sort_values('w_av', ascending=False)\n",
    "print(college_total.head(10))"
   ]
  }
 ],
 "metadata": {
  "kernelspec": {
   "display_name": "base",
   "language": "python",
   "name": "python3"
  },
  "language_info": {
   "codemirror_mode": {
    "name": "ipython",
    "version": 3
   },
   "file_extension": ".py",
   "mimetype": "text/x-python",
   "name": "python",
   "nbconvert_exporter": "python",
   "pygments_lexer": "ipython3",
   "version": "3.11.8"
  }
 },
 "nbformat": 4,
 "nbformat_minor": 2
}
